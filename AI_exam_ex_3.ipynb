{
 "cells": [
  {
   "cell_type": "markdown",
   "id": "c707f35e",
   "metadata": {},
   "source": [
    "# AI Exam"
   ]
  },
  {
   "cell_type": "markdown",
   "id": "233976dd",
   "metadata": {},
   "source": [
    "Consider the following environment:\n",
    "\n",
    "<img src=\"images/road_env.jpg\" style=\"zoom: 40%;\"/>\n",
    "\n",
    "The agent starts in cell $S=(0, 0)$ and must reach the goal in cell $G=(8,6)$. The agent can move in the four directions (except when a wall is present), and each step has unitary cost. \n",
    "In cells representing roads with intersections, the agent must wait for the traffic light to turn green before proceeding. At busy intersections (indicated by two traffic lights in the same cell), the agent will have to wait a long time to cross the intersection, greatly increasing the cost of the route (+5). On the other hand, intersections with only one traffic light are less busy and the agent will only pay a cost of 2 to cross them.\n",
    "\n",
    "Assuming that actions are fully deterministic, consider the problem of finding a minimum cost path from $S$ to $G$. Find a solution using the approach that you consider most suited for the problem and motivate your choice."
   ]
  },
  {
   "cell_type": "code",
   "execution_count": 2,
   "id": "5be1e677",
   "metadata": {},
   "outputs": [
    {
     "name": "stdout",
     "output_type": "stream",
     "text": [
      "[['S' 'R' 'W' 'W' 'W' 'W' 'R' 'W' 'W']\n",
      " ['W' 'Ts' 'R' 'R' 'R' 'R' 'Tl' 'R' 'R']\n",
      " ['W' 'R' 'W' 'W' 'W' 'W' 'R' 'W' 'W']\n",
      " ['R' 'Ts' 'R' 'Ts' 'R' 'R' 'Ts' 'W' 'W']\n",
      " ['W' 'W' 'W' 'R' 'W' 'W' 'R' 'Ts' 'R']\n",
      " ['W' 'R' 'R' 'Tl' 'W' 'W' 'W' 'R' 'W']\n",
      " ['W' 'R' 'W' 'R' 'Ts' 'R' 'R' 'Tl' 'R']\n",
      " ['W' 'R' 'W' 'W' 'R' 'W' 'W' 'R' 'W']\n",
      " ['R' 'Ts' 'R' 'R' 'Tl' 'R' 'G' 'Ts' 'R']]\n",
      "\n",
      "Actions encoding:  {0: 'L', 1: 'R', 2: 'U', 3: 'D'}\n",
      "Cell type of start state:  S\n",
      "Cell type of goal state:  G\n",
      "Cell type of cell (0, 0):  S\n",
      "Cell type of cell (1, 1):  Ts\n"
     ]
    }
   ],
   "source": [
    "import os, sys \n",
    "\n",
    "module_path = os.path.abspath(os.path.join('tools'))\n",
    "if module_path not in sys.path:\n",
    "    sys.path.append(module_path)\n",
    "\n",
    "import gym, envs\n",
    "from utils.ai_lab_functions import *\n",
    "import numpy as np\n",
    "from timeit import default_timer as timer\n",
    "from tqdm import tqdm as tqdm\n",
    "\n",
    "env_name = 'RoadEnv-v0'\n",
    "env = gym.make(env_name)\n",
    "\n",
    "env.render()\n",
    "\n",
    "print(\"\\nActions encoding: \", env.actions)\n",
    "\n",
    "# Remember that you can know the type of a cell whenever you need by accessing the grid element of the environment:\n",
    "print(\"Cell type of start state: \",env.grid[env.startstate])\n",
    "print(\"Cell type of goal state: \",env.grid[env.goalstate])\n",
    "state = 15 # a very busy intersection\n",
    "print(f\"Cell type of cell {env.state_to_pos(state)}: \",env.grid[state])\n",
    "state = 10 # a less busy intersection\n",
    "print(f\"Cell type of cell {env.state_to_pos(state)}: \",env.grid[state])"
   ]
  },
  {
   "cell_type": "markdown",
   "id": "3aa6e1b7",
   "metadata": {},
   "source": [
    "Remember that it is on you to keep into account the cost of each step!\n",
    "\n",
    "Here's an example of how you can handle the problem:"
   ]
  },
  {
   "cell_type": "code",
   "execution_count": 5,
   "id": "23bcacb3",
   "metadata": {},
   "outputs": [
    {
     "name": "stdout",
     "output_type": "stream",
     "text": [
      "State 1, action 0, next state 0, child cost 1\n",
      "State 1, action 1, next state 1, child cost 1\n",
      "State 1, action 2, next state 1, child cost 1\n",
      "State 1, action 3, next state 10, child cost 2\n"
     ]
    }
   ],
   "source": [
    "# This check can be used to determine the cost of an action:\n",
    "state = 1 #state in position (0,1)\n",
    "node=Node(state)\n",
    "cost = 1 #default value for action cost\n",
    "for action in range(env.action_space.n):  #Look around\n",
    "    child_state = env.sample(node.state, action)\n",
    "    if env.grid[child_state] == 'Tl':\n",
    "        cost = 5 #if next state is a cell with two traffic lights the cost is 5\n",
    "    if env.grid[child_state] == 'Ts':\n",
    "        cost = 2 #if next state is a cell with just one traffic light the cost is 2\n",
    "    child = Node( \n",
    "        child_state, # node state\n",
    "        node, # parent node\n",
    "        node.pathcost + cost, # incremental path cost\n",
    "    ) \n",
    "    print(f\"State {state}, action {action}, next state {child.state}, child cost {child.pathcost}\")"
   ]
  },
  {
   "cell_type": "markdown",
   "id": "bb164cbb",
   "metadata": {},
   "source": [
    "Use the following code cells to implement and test your solution."
   ]
  },
  {
   "cell_type": "code",
   "execution_count": 12,
   "id": "f74a7e2f",
   "metadata": {},
   "outputs": [],
   "source": [
    "#IMPLEMENT THIS FUNCTION, YOU CAN CHANGE THE PARAMETERS FOR THE FUNCTION IF THIS IS USEFUL\n",
    "def my_solution(environment, node= None):\n",
    "\n",
    "    if node == None:\n",
    "        node= Node(environment.startstate, None, 0)\n",
    "        \n",
    "    if environment.goalstate == node.state: # Goal state check\n",
    "        return build_path(node), 1, node.pathcost\n",
    "\n",
    "    time_cost= 0\n",
    "    memory_cost= 0\n",
    "\n",
    "    blockedOccurred= False\n",
    "    for action in range(environment.action_space.n):\n",
    "        next_state= environment.sample(node.state, action)\n",
    "\n",
    "        parent= node.parent\n",
    "\n",
    "\n",
    "        if environment.grid[next_state] == 'W' or environment.grid[parent.state]:\n",
    "            return \"blocked\", 1, node.pathcost\n",
    "\n",
    "        if environment.grid[next_state] == 'Tl':\n",
    "            time_cost= 5 #if next state is a cell with two traffic lights the cost is 5\n",
    "        if environment.grid[next] == 'Ts':\n",
    "            time_cost= 2 #if next state is a cell with just one traffic light the cost is 2\n",
    "        else:\n",
    "            time_cost+=1\n",
    "        \n",
    "        memory_cost+=1\n",
    "            \n",
    "        next_node = Node( \n",
    "            next_state, # node state\n",
    "            node, # parent node\n",
    "            node.pathcost + cost, # incremental path cost\n",
    "        )             \n",
    "        \n",
    "        result= my_solution(environment, next_node)\n",
    "\n",
    "        time_cost+= result[1]\n",
    "\n",
    "        if result[0] == \"blocked\":\n",
    "            blockedOccurred = True\n",
    "        elif result[0] != \"failure\": # Solution found\n",
    "            return build_path(Node), time_cost, memory_cost\n",
    "        \n",
    "    if(cut_off_occurred): # Solution not found but cutoff occurred\n",
    "        return \"blocked\", time_cost, memory_cost\n",
    "    else: # No solution and no cutoff: failure\n",
    "        return \"failure\", time_cost, memory_cost\n",
    "\n",
    "    \n"
   ]
  },
  {
   "cell_type": "code",
   "execution_count": 13,
   "id": "1035b59d",
   "metadata": {},
   "outputs": [
    {
     "ename": "AttributeError",
     "evalue": "'NoneType' object has no attribute 'state'",
     "output_type": "error",
     "traceback": [
      "\u001b[0;31m---------------------------------------------------------------------------\u001b[0m",
      "\u001b[0;31mAttributeError\u001b[0m                            Traceback (most recent call last)",
      "Cell \u001b[0;32mIn[13], line 6\u001b[0m\n\u001b[1;32m      2\u001b[0m env \u001b[38;5;241m=\u001b[39m gym\u001b[38;5;241m.\u001b[39mmake(env_name)\n\u001b[1;32m      4\u001b[0m t \u001b[38;5;241m=\u001b[39m timer()\n\u001b[0;32m----> 6\u001b[0m path, time_cost, memory_cost \u001b[38;5;241m=\u001b[39m my_solution(env)\n\u001b[1;32m      8\u001b[0m \u001b[38;5;28mprint\u001b[39m(\u001b[38;5;124m\"\u001b[39m\u001b[38;5;130;01m\\n\u001b[39;00m\u001b[38;5;124mEXECUTION TIME: \u001b[39m\u001b[38;5;130;01m\\n\u001b[39;00m\u001b[38;5;132;01m{}\u001b[39;00m\u001b[38;5;130;01m\\n\u001b[39;00m\u001b[38;5;124m\"\u001b[39m\u001b[38;5;241m.\u001b[39mformat(\u001b[38;5;28mround\u001b[39m(timer() \u001b[38;5;241m-\u001b[39m t, \u001b[38;5;241m4\u001b[39m)))\n\u001b[1;32m     10\u001b[0m \u001b[38;5;28mprint\u001b[39m(\u001b[38;5;124m\"\u001b[39m\u001b[38;5;124mSolution: \u001b[39m\u001b[38;5;132;01m{}\u001b[39;00m\u001b[38;5;124m\"\u001b[39m\u001b[38;5;241m.\u001b[39mformat(solution_2_string(path, env)))\n",
      "Cell \u001b[0;32mIn[12], line 20\u001b[0m, in \u001b[0;36mmy_solution\u001b[0;34m(environment, node)\u001b[0m\n\u001b[1;32m     15\u001b[0m next_state\u001b[38;5;241m=\u001b[39m environment\u001b[38;5;241m.\u001b[39msample(node\u001b[38;5;241m.\u001b[39mstate, action)\n\u001b[1;32m     17\u001b[0m parent\u001b[38;5;241m=\u001b[39m node\u001b[38;5;241m.\u001b[39mparent\n\u001b[0;32m---> 20\u001b[0m \u001b[38;5;28;01mif\u001b[39;00m environment\u001b[38;5;241m.\u001b[39mgrid[next_state] \u001b[38;5;241m==\u001b[39m \u001b[38;5;124m'\u001b[39m\u001b[38;5;124mW\u001b[39m\u001b[38;5;124m'\u001b[39m \u001b[38;5;129;01mor\u001b[39;00m environment\u001b[38;5;241m.\u001b[39mgrid[parent\u001b[38;5;241m.\u001b[39mstate]:\n\u001b[1;32m     21\u001b[0m     \u001b[38;5;28;01mreturn\u001b[39;00m \u001b[38;5;124m\"\u001b[39m\u001b[38;5;124mblocked\u001b[39m\u001b[38;5;124m\"\u001b[39m, \u001b[38;5;241m1\u001b[39m, node\u001b[38;5;241m.\u001b[39mpathcost\n\u001b[1;32m     23\u001b[0m \u001b[38;5;28;01mif\u001b[39;00m environment\u001b[38;5;241m.\u001b[39mgrid[next_state] \u001b[38;5;241m==\u001b[39m \u001b[38;5;124m'\u001b[39m\u001b[38;5;124mTl\u001b[39m\u001b[38;5;124m'\u001b[39m:\n",
      "\u001b[0;31mAttributeError\u001b[0m: 'NoneType' object has no attribute 'state'"
     ]
    }
   ],
   "source": [
    "env_name = 'RoadEnv-v0'\n",
    "env = gym.make(env_name)\n",
    "\n",
    "t = timer()\n",
    "\n",
    "path, time_cost, memory_cost = my_solution(env)\n",
    "\n",
    "print(\"\\nEXECUTION TIME: \\n{}\\n\".format(round(timer() - t, 4)))\n",
    "\n",
    "print(\"Solution: {}\".format(solution_2_string(path, env)))\n",
    "print(\"N° of nodes explored: {}\".format(time_cost))\n",
    "print(\"Max n° of nodes in memory: {}\\n\".format(memory_cost))\n",
    "\n",
    "check_sol(solution_2_string(path, env))"
   ]
  },
  {
   "cell_type": "code",
   "execution_count": null,
   "id": "f95610ac",
   "metadata": {},
   "outputs": [],
   "source": []
  }
 ],
 "metadata": {
  "kernelspec": {
   "display_name": "Python 3 (ipykernel)",
   "language": "python",
   "name": "python3"
  },
  "language_info": {
   "codemirror_mode": {
    "name": "ipython",
    "version": 3
   },
   "file_extension": ".py",
   "mimetype": "text/x-python",
   "name": "python",
   "nbconvert_exporter": "python",
   "pygments_lexer": "ipython3",
   "version": "3.1.undefined"
  },
  "vscode": {
   "interpreter": {
    "hash": "703075dc036e8ebc3a027aec30cd295176a007527fa40434b7705e84e779ac0a"
   }
  }
 },
 "nbformat": 4,
 "nbformat_minor": 5
}
